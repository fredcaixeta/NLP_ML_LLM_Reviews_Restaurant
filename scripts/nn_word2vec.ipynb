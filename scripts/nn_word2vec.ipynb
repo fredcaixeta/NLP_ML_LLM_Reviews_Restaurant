{
 "cells": [
  {
   "cell_type": "code",
   "execution_count": 9,
   "id": "b7cd7389",
   "metadata": {},
   "outputs": [
    {
     "name": "stderr",
     "output_type": "stream",
     "text": [
      "2025/05/14 17:59:17 WARNING mlflow.tracking.fluent: Exception raised while enabling autologging for google.genai: partially initialized module 'mlflow.gemini' has no attribute 'autolog' (most likely due to a circular import)\n",
      "2025/05/14 17:59:17 INFO mlflow.tracking.fluent: Autologging successfully enabled for google.generativeai.\n",
      "2025/05/14 17:59:17 WARNING mlflow.utils.autologging_utils: MLflow autologging encountered a warning: \"C:\\Users\\fuedj\\AppData\\Local\\Packages\\PythonSoftwareFoundation.Python.3.11_qbz5n2kfra8p0\\LocalCache\\local-packages\\Python311\\site-packages\\langchain_google_genai\\__init__.py:59: LangChainDeprecationWarning: As of langchain-core 0.3.0, LangChain uses pydantic v2 internally. The langchain_core.pydantic_v1 module was a compatibility shim for pydantic v1, and should no longer be used. Please update the code to import from Pydantic directly.\n",
      "\n",
      "For example, replace imports like: `from langchain_core.pydantic_v1 import BaseModel`\n",
      "with: `from pydantic import BaseModel`\n",
      "or the v1 compatibility namespace if you are working in a code base that has not been fully upgraded to pydantic 2 yet. \tfrom pydantic.v1 import BaseModel\n",
      "\"\n",
      "2025/05/14 17:59:26 INFO mlflow.tracking.fluent: Autologging successfully enabled for openai.\n",
      "2025/05/14 17:59:27 INFO mlflow.tracking.fluent: Autologging successfully enabled for langchain.\n"
     ]
    }
   ],
   "source": [
    "import pandas as pd\n",
    "import numpy as np\n",
    "from sklearn.model_selection import train_test_split\n",
    "from sklearn.linear_model import LogisticRegression\n",
    "from sklearn.cluster import KMeans\n",
    "from sklearn.metrics import classification_report, accuracy_score\n",
    "import mlflow\n",
    "from model2vec import StaticModel\n",
    "from langchain.embeddings.base import Embeddings\n",
    "from typing import List, Tuple, Dict"
   ]
  },
  {
   "cell_type": "code",
   "execution_count": 11,
   "id": "75acb871",
   "metadata": {},
   "outputs": [
    {
     "data": {
      "text/plain": [
       "<Experiment: artifact_location='mlflow-artifacts:/855487855781956226', creation_time=1747256508705, experiment_id='855487855781956226', last_update_time=1747256508705, lifecycle_stage='active', name='Train_Emb_Trimmed_Fix-Negative_Sentiment_Analysis_Restaurant', tags={}>"
      ]
     },
     "execution_count": 11,
     "metadata": {},
     "output_type": "execute_result"
    }
   ],
   "source": [
    "mlflow.set_tracking_uri(\"http://127.0.0.1:5000/\")  # Ajuste para seu servidor MLflow\n",
    "mlflow.set_experiment(\"Train_Emb_Trimmed_Fix-Negative_Sentiment_Analysis_Restaurant\")"
   ]
  },
  {
   "cell_type": "code",
   "execution_count": 14,
   "id": "673187d6",
   "metadata": {},
   "outputs": [
    {
     "name": "stdout",
     "output_type": "stream",
     "text": [
      "Gerando embeddings com Model2Vec...\n"
     ]
    },
    {
     "name": "stderr",
     "output_type": "stream",
     "text": [
      "2025/05/14 18:04:34 INFO mlflow.utils.autologging_utils: Created MLflow autologging run with ID 'f73a2f0b075242c491a20d1999ea030b', which will track hyperparameters, performance metrics, model artifacts, and lineage information for the current sklearn workflow\n"
     ]
    },
    {
     "name": "stdout",
     "output_type": "stream",
     "text": [
      "Executando KMeans...\n"
     ]
    },
    {
     "name": "stderr",
     "output_type": "stream",
     "text": [
      "2025/05/14 18:04:34 WARNING mlflow.sklearn: Unrecognized dataset type <class 'list'>. Dataset logging skipped.\n",
      "2025/05/14 18:04:34 WARNING mlflow.sklearn: Training metrics will not be recorded because training labels were not specified. To automatically record training metrics, provide training labels as inputs to the model training function.\n",
      "2025/05/14 18:04:44 WARNING mlflow.sklearn: Unrecognized dataset type <class 'list'>. Dataset logging skipped.\n",
      "2025/05/14 18:04:44 WARNING mlflow.sklearn: Failed to log training dataset information to MLflow Tracking. Reason: 'Series' object has no attribute 'flatten'\n"
     ]
    },
    {
     "name": "stdout",
     "output_type": "stream",
     "text": [
      "🏃 View run chill-skink-562 at: http://127.0.0.1:5000/#/experiments/855487855781956226/runs/f73a2f0b075242c491a20d1999ea030b\n",
      "🧪 View experiment at: http://127.0.0.1:5000/#/experiments/855487855781956226\n"
     ]
    },
    {
     "name": "stderr",
     "output_type": "stream",
     "text": [
      "2025/05/14 18:04:50 INFO mlflow.bedrock: Enabled auto-tracing for Bedrock. Note that MLflow can only trace boto3 service clients that are created after this call. If you have already created one, please recreate the client by calling `boto3.client`.\n",
      "2025/05/14 18:04:50 INFO mlflow.tracking.fluent: Autologging successfully enabled for boto3.\n",
      "2025/05/14 18:04:50 INFO mlflow.tracking.fluent: Autologging successfully enabled for google.genai.\n",
      "2025/05/14 18:04:50 INFO mlflow.tracking.fluent: Autologging successfully enabled for google.generativeai.\n"
     ]
    },
    {
     "name": "stdout",
     "output_type": "stream",
     "text": [
      "Accuracy: 0.7222\n",
      "              precision    recall  f1-score   support\n",
      "\n",
      "    Negative       0.63      0.55      0.59        31\n",
      "     Neutral       0.33      0.07      0.11        15\n",
      "    Positive       0.76      0.91      0.83        80\n",
      "\n",
      "    accuracy                           0.72       126\n",
      "   macro avg       0.57      0.51      0.51       126\n",
      "weighted avg       0.68      0.72      0.68       126\n",
      "\n"
     ]
    },
    {
     "name": "stderr",
     "output_type": "stream",
     "text": [
      "2025/05/14 18:04:51 INFO mlflow.tracking.fluent: Autologging successfully enabled for langchain.\n",
      "2025/05/14 18:04:51 INFO mlflow.tracking.fluent: Autologging successfully enabled for openai.\n",
      "2025/05/14 18:04:51 INFO mlflow.tracking.fluent: Autologging successfully enabled for sklearn.\n"
     ]
    },
    {
     "name": "stdout",
     "output_type": "stream",
     "text": [
      "🏃 View run LogReg_with_Embeddings+KMeans at: http://127.0.0.1:5000/#/experiments/855487855781956226/runs/c732ef0c4ccc48139aeb8b5961c6ccc9\n",
      "🧪 View experiment at: http://127.0.0.1:5000/#/experiments/855487855781956226\n"
     ]
    }
   ],
   "source": [
    "# --- Carregar Dados ---\n",
    "df_train = pd.read_parquet('../data/dataset_train_with_sentiment_fix_negative_trimmed_similarity.parquet')\n",
    "\n",
    "if 'target' not in df_train.columns:\n",
    "    df_train['target'] = df_train['sentiment']\n",
    "\n",
    "X_text = df_train['comment_cleaned']\n",
    "y = df_train['target']\n",
    "\n",
    "# --- Split de Treino e Teste ---\n",
    "X_train_text, X_test_text, y_train, y_test = train_test_split(\n",
    "    X_text, y, test_size=0.2, random_state=42, stratify=y\n",
    ")\n",
    "\n",
    "# --- Sentence Embedding ---\n",
    "class Model2VecEmbeddings(Embeddings):\n",
    "        \"\"\"Wrapper para o Model2Vec como Embeddings do LangChain\"\"\"\n",
    "        def __init__(self, model_name: str):\n",
    "            self.model = StaticModel.from_pretrained(model_name)\n",
    "\n",
    "        def embed_documents(self, texts: List[str]) -> List[List[float]]:\n",
    "            return self.model.encode(texts).tolist()\n",
    "        \n",
    "        def embed_query(self, text: str) -> List[float]:\n",
    "            return self.model.encode([text]).tolist()[0]\n",
    "        \n",
    "print(\"Gerando embeddings com Model2Vec...\")\n",
    "model_name = \"minishlab/potion-base-2M\"\n",
    "model = Model2VecEmbeddings(model_name)\n",
    "\n",
    "X_train_vec = model.embed_documents(X_train_text.tolist())\n",
    "X_test_vec = model.embed_documents(X_test_text.tolist())\n",
    "\n",
    "# --- Clustering (KMeans) ---\n",
    "print(\"Executando KMeans...\")\n",
    "kmeans = KMeans(n_clusters=3, random_state=42)\n",
    "train_clusters = kmeans.fit_predict(X_train_vec)\n",
    "test_clusters = kmeans.predict(X_test_vec)\n",
    "\n",
    "# Adicionar clusters como feature extra\n",
    "X_train_augmented = np.hstack([X_train_vec, train_clusters.reshape(-1, 1)])\n",
    "X_test_augmented = np.hstack([X_test_vec, test_clusters.reshape(-1, 1)])\n",
    "\n",
    "# --- Modelo Supervisionado (Logistic Regression) ---\n",
    "model_name = \"LogReg_with_Embeddings+KMeans\"\n",
    "\n",
    "with mlflow.start_run(run_name=model_name):\n",
    "    clf = LogisticRegression(C=10, penalty='l2', solver='lbfgs', max_iter=1000, random_state=42)\n",
    "    clf.fit(X_train_augmented, y_train)\n",
    "\n",
    "    y_pred = clf.predict(X_test_augmented)\n",
    "    acc = accuracy_score(y_test, y_pred)\n",
    "    report = classification_report(y_test, y_pred, output_dict=True)\n",
    "\n",
    "    print(f\"Accuracy: {acc:.4f}\")\n",
    "    print(classification_report(y_test, y_pred))\n",
    "\n",
    "    # --- Log MLflow ---\n",
    "    mlflow.autolog()\n",
    "    mlflow.log_param(\"embedding_model\", \"potion-base-2M\")\n",
    "    mlflow.log_param(\"classifier\", \"LogisticRegression\")\n",
    "    mlflow.log_param(\"C\", 10)\n",
    "    mlflow.log_param(\"penalty\", \"l2\")\n",
    "    mlflow.log_param(\"solver\", \"lbfgs\")\n",
    "    mlflow.log_param(\"kmeans_clusters\", 3)\n",
    "    mlflow.log_metric(\"accuracy\", acc)\n",
    "    mlflow.log_dict(report, \"classification_report.json\")\n"
   ]
  }
 ],
 "metadata": {
  "kernelspec": {
   "display_name": "Python 3",
   "language": "python",
   "name": "python3"
  },
  "language_info": {
   "codemirror_mode": {
    "name": "ipython",
    "version": 3
   },
   "file_extension": ".py",
   "mimetype": "text/x-python",
   "name": "python",
   "nbconvert_exporter": "python",
   "pygments_lexer": "ipython3",
   "version": "3.11.9"
  }
 },
 "nbformat": 4,
 "nbformat_minor": 5
}
