{
 "cells": [
  {
   "cell_type": "code",
   "execution_count": 2,
   "id": "3948f7d6",
   "metadata": {},
   "outputs": [
    {
     "data": {
      "text/plain": [
       "<Experiment: artifact_location='mlflow-artifacts:/901935482127334374', creation_time=1747243622588, experiment_id='901935482127334374', last_update_time=1747243622588, lifecycle_stage='active', name='Train_Trimmed_Fix-Negative_Sentiment_Analysis_Restaurant', tags={}>"
      ]
     },
     "execution_count": 2,
     "metadata": {},
     "output_type": "execute_result"
    }
   ],
   "source": [
    "import pandas as pd\n",
    "import numpy as np\n",
    "from sklearn.model_selection import train_test_split\n",
    "from sklearn.feature_extraction.text import TfidfVectorizer\n",
    "from sklearn.pipeline import Pipeline\n",
    "from sklearn.ensemble import RandomForestClassifier\n",
    "from sklearn.svm import SVC\n",
    "from sklearn.linear_model import LogisticRegression\n",
    "from sklearn.metrics import classification_report, accuracy_score, f1_score, precision_score, recall_score\n",
    "import mlflow\n",
    "import mlflow.sklearn\n",
    "from mlflow.models.signature import infer_signature\n",
    "import string\n",
    "import re\n",
    "\n",
    "# Configuração do MLflow\n",
    "mlflow.set_tracking_uri(\"http://127.0.0.1:5000/\")  # Ajuste para seu servidor MLflow\n",
    "mlflow.set_experiment(\"Train_Trimmed_Fix-Negative_Sentiment_Analysis_Restaurant\")"
   ]
  },
  {
   "cell_type": "markdown",
   "id": "7cfdf908",
   "metadata": {},
   "source": [
    "# INPUTS"
   ]
  },
  {
   "cell_type": "code",
   "execution_count": 3,
   "id": "b772c218",
   "metadata": {},
   "outputs": [
    {
     "name": "stderr",
     "output_type": "stream",
     "text": [
      "2025/05/14 14:31:20 INFO mlflow.tracking.fluent: Autologging successfully enabled for sklearn.\n",
      "2025/05/14 14:31:20 WARNING mlflow.sklearn: Unrecognized dataset type <class 'pandas.core.series.Series'>. Dataset logging skipped.\n"
     ]
    },
    {
     "name": "stdout",
     "output_type": "stream",
     "text": [
      "RandomForest - Accuracy: 0.6667\n",
      "🏃 View run RandomForest at: http://127.0.0.1:5000/#/experiments/901935482127334374/runs/b2326155ff93476cbd8c9ab1ac81bad8\n",
      "🧪 View experiment at: http://127.0.0.1:5000/#/experiments/901935482127334374\n"
     ]
    },
    {
     "name": "stderr",
     "output_type": "stream",
     "text": [
      "2025/05/14 14:31:30 WARNING mlflow.sklearn: Unrecognized dataset type <class 'pandas.core.series.Series'>. Dataset logging skipped.\n",
      "C:\\Users\\fuedj\\AppData\\Local\\Packages\\PythonSoftwareFoundation.Python.3.11_qbz5n2kfra8p0\\LocalCache\\local-packages\\Python311\\site-packages\\sklearn\\metrics\\_classification.py:1531: UndefinedMetricWarning: Precision is ill-defined and being set to 0.0 in labels with no predicted samples. Use `zero_division` parameter to control this behavior.\n",
      "  _warn_prf(average, modifier, f\"{metric.capitalize()} is\", len(result))\n",
      "C:\\Users\\fuedj\\AppData\\Local\\Packages\\PythonSoftwareFoundation.Python.3.11_qbz5n2kfra8p0\\LocalCache\\local-packages\\Python311\\site-packages\\sklearn\\metrics\\_classification.py:1531: UndefinedMetricWarning: Precision is ill-defined and being set to 0.0 in labels with no predicted samples. Use `zero_division` parameter to control this behavior.\n",
      "  _warn_prf(average, modifier, f\"{metric.capitalize()} is\", len(result))\n",
      "C:\\Users\\fuedj\\AppData\\Local\\Packages\\PythonSoftwareFoundation.Python.3.11_qbz5n2kfra8p0\\LocalCache\\local-packages\\Python311\\site-packages\\sklearn\\metrics\\_classification.py:1531: UndefinedMetricWarning: Precision is ill-defined and being set to 0.0 in labels with no predicted samples. Use `zero_division` parameter to control this behavior.\n",
      "  _warn_prf(average, modifier, f\"{metric.capitalize()} is\", len(result))\n",
      "2025/05/14 14:31:30 INFO mlflow.tracking.fluent: Autologging successfully enabled for sklearn.\n"
     ]
    },
    {
     "name": "stdout",
     "output_type": "stream",
     "text": [
      "LogisticRegression - Accuracy: 0.6667\n",
      "🏃 View run LogisticRegression at: http://127.0.0.1:5000/#/experiments/901935482127334374/runs/0941f552e3e2466f81fef2ae7c5c79f9\n",
      "🧪 View experiment at: http://127.0.0.1:5000/#/experiments/901935482127334374\n"
     ]
    }
   ],
   "source": [
    "df_train = pd.read_parquet('../data/dataset_train_with_sentiment_fix_negative_trimmed_similarity.parquet') \n",
    "\n",
    "if 'target' not in df_train.columns:\n",
    "    df_train['target'] = df_train['sentiment']\n",
    "    \n",
    "# Separate features and labels\n",
    "X = df_train['comment_cleaned']\n",
    "y = df_train['target']\n",
    "\n",
    "# --- MLflow Setup ---\n",
    "\n",
    "# --- Preparar dados para treinamento e avaliação (split interno) ---\n",
    "# Dividir a base de treino em treino e validação PARA ACOMPANHAMENTO DO MLflow\n",
    "# Isso permite avaliar o modelo em dados que ele não viu durante o treinamento deste run específico\n",
    "\n",
    "X_train, X_test, y_train, y_test = train_test_split(\n",
    "    X, y, test_size=0.2, random_state=42, stratify=y) # Usar stratify para manter proporção das classes\n",
    "\n",
    "\n",
    "# Modelos para testar\n",
    "models = {\n",
    "    'RandomForest': RandomForestClassifier(n_estimators=100, random_state=42),\n",
    "    'LogisticRegression': LogisticRegression(max_iter=1000, random_state=42)\n",
    "}\n",
    "\n",
    "# Vetorizador TF-IDF\n",
    "vectorizer = TfidfVectorizer(max_features=5000, stop_words='english')\n",
    "    \n",
    "for model_name, model in models.items():\n",
    "    with mlflow.start_run(run_name=model_name):\n",
    "        #Pipeline\n",
    "        pipeline = Pipeline([\n",
    "                ('tfidf', vectorizer),\n",
    "                ('clf', model)\n",
    "            ])\n",
    "        # Treino\n",
    "        pipeline.fit(X_train, y_train)\n",
    "        \n",
    "        # Avaliação\n",
    "        y_pred = pipeline.predict(X_test)\n",
    "        accuracy = accuracy_score(y_test, y_pred)\n",
    "        report = classification_report(y_test, y_pred, output_dict=True)\n",
    "        \n",
    "        mlflow.autolog()\n",
    "        \n",
    "        print(f\"{model_name} - Accuracy: {accuracy:.4f}\")\n"
   ]
  }
 ],
 "metadata": {
  "kernelspec": {
   "display_name": "Python 3",
   "language": "python",
   "name": "python3"
  },
  "language_info": {
   "codemirror_mode": {
    "name": "ipython",
    "version": 3
   },
   "file_extension": ".py",
   "mimetype": "text/x-python",
   "name": "python",
   "nbconvert_exporter": "python",
   "pygments_lexer": "ipython3",
   "version": "3.11.9"
  }
 },
 "nbformat": 4,
 "nbformat_minor": 5
}
