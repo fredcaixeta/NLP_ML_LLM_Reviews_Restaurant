{
 "cells": [
  {
   "cell_type": "code",
   "execution_count": 3,
   "id": "2b238e86",
   "metadata": {},
   "outputs": [],
   "source": [
    "import mlflow\n",
    "import pandas as pd\n",
    "from sklearn.feature_extraction.text import TfidfVectorizer\n",
    "import logging\n",
    "import numpy as np\n",
    "\n",
    "import re\n",
    "import os\n",
    "import json\n",
    "from typing import List, Dict\n",
    "\n",
    "logging.basicConfig(level=logging.INFO)\n",
    "logger = logging.getLogger(__name__)\n",
    "\n",
    "class SentimentInferencer:\n",
    "    def __init__(self):\n",
    "        self.label_mapping = {'Negative': 0, 'Neutral': 1, 'Positive': 2}\n",
    "        self.inverse_mapping = {v: k for k, v in self.label_mapping.items()}\n",
    "        self.model = None\n",
    "\n",
    "    def load_model(self, model_name=\"randomforest\"):\n",
    "        \"\"\"Carrega o modelo do MLflow.\"\"\"\n",
    "        try:\n",
    "            model_uri = f\"models:/{model_name}/latest\"\n",
    "            self.model = mlflow.sklearn.load_model(model_uri)\n",
    "            logger.info(f\"Modelo '{model_name}' carregado com sucesso de MLflow.\")\n",
    "        except Exception as e:\n",
    "            logger.error(f\"Erro ao carregar o modelo '{model_name}' de MLflow: {e}\")\n",
    "            raise\n",
    "\n",
    "    def preprocess_data(self, data):\n",
    "        \"\"\"Pré-processa os dados de entrada para inferência.\n",
    "           Se o seu modelo no MLflow já inclui o vetorizador,\n",
    "           esta etapa pode ser mais simples ou até mesmo desnecessária.\"\"\"\n",
    "        if self.model is None:\n",
    "            raise ValueError(\"Modelo não carregado. Chame load_model() primeiro.\")\n",
    "\n",
    "        # Se o modelo carregado já é um pipeline que inclui o vetorizador,\n",
    "        # você pode simplesmente passar os dados de texto brutos para o predict.\n",
    "        # Caso contrário, se você precisar aplicar o mesmo vetorizador usado no treinamento:\n",
    "        #\n",
    "        # # Tentar acessar o vetorizador do pipeline (se o modelo for um pipeline)\n",
    "        # if hasattr(self.model, 'steps'):\n",
    "        #     for name, step in self.model.steps:\n",
    "        #         if isinstance(step, TfidfVectorizer):\n",
    "        #             return step.transform(data)\n",
    "        #\n",
    "        # # Se o vetorizador foi salvo separadamente (o que não parece ser o caso no seu código de validação)\n",
    "        # # você precisaria carregá-lo aqui e usar self.vectorizer.transform(data)\n",
    "        #\n",
    "        # # Assumindo que o modelo já lida com a transformação:\n",
    "        return data\n",
    "\n",
    "    def predict_sentiment(self, input_data):\n",
    "        \"\"\"Realiza a inferência de sentimento nos dados de entrada.\"\"\"\n",
    "        if self.model is None:\n",
    "            raise ValueError(\"Modelo não carregado. Chame load_model() primeiro.\")\n",
    "\n",
    "        processed_data = self.preprocess_data(input_data)\n",
    "        predictions = self.model.predict(processed_data)\n",
    "\n",
    "        # Converter previsões numéricas de volta para rótulos de texto\n",
    "        #predicted_labels = [self.inverse_mapping.get(int(pred), 'Unknown') for pred in predictions]\n",
    "        return predictions\n"
   ]
  },
  {
   "cell_type": "code",
   "execution_count": null,
   "id": "d1409a84",
   "metadata": {},
   "outputs": [
    {
     "data": {
      "application/vnd.jupyter.widget-view+json": {
       "model_id": "92b5fb0b448044bf8758a833a8b5a3ae",
       "version_major": 2,
       "version_minor": 0
      },
      "text/plain": [
       "Downloading artifacts:   0%|          | 0/5 [00:00<?, ?it/s]"
      ]
     },
     "metadata": {},
     "output_type": "display_data"
    },
    {
     "name": "stderr",
     "output_type": "stream",
     "text": [
      "INFO:__main__:Modelo 'gs_logisticregression' carregado com sucesso de MLflow.\n"
     ]
    },
    {
     "name": "stdout",
     "output_type": "stream",
     "text": [
      "\n",
      "Resultados da Inferência:\n",
      "62/195 comentarios divergentes\n"
     ]
    }
   ],
   "source": [
    "# Configuração do MLflow\n",
    "mlflow.set_tracking_uri(\"http://127.0.0.1:5000/\")  # Ajuste para seu servidor MLflow\n",
    "\n",
    "inferencer = SentimentInferencer()\n",
    "inferencer.load_model(model_name=\"gs_logisticregression\")  # Substitua pelo nome do seu modelo\n",
    "\n",
    "input_parquet = \"../data\\dataset_valid_with_sentiment_fix_negative_trimmed_similarity.parquet\"\n",
    "\n",
    "\n",
    "df = pd.read_parquet(input_parquet)\n",
    "new_comments = []\n",
    "real_sentiments = []\n",
    "for index, row in df.head(2000).iterrows():\n",
    "    #if row['comment'] != row['comment_cleaned']:\n",
    "    linha = index + 1  # Adiciona 1 para começar a contagem do 1\n",
    "    new_comments.append(row['comment_cleaned'])\n",
    "    real_sentiments.append(row['sentiment'])\n",
    "\n",
    "# # Novos dados para inferência (lista de comentários)\n",
    "# new_comments = [\n",
    "#     \"This restaurant is incredible, loved it!\",\n",
    "#     \"Hmmm didn't like the experience... quite bad.\",\n",
    "#     \"Avarage service, nothing special.\",\n",
    "#     \"Cool... happy I am.\"\n",
    "# ]\n",
    "\n",
    "i = 0\n",
    "j = 0\n",
    "try:\n",
    "    predictions = inferencer.predict_sentiment(new_comments)\n",
    "    print(\"\\nResultados da Inferência:\")\n",
    "    for comment, prediction, real_sentiment in zip(new_comments, predictions, real_sentiments):\n",
    "        j = j + 1\n",
    "        if prediction != real_sentiment:\n",
    "            i = i + 1\n",
    "            #print(f\"Comment: '{comment}' -> Sent Previsto: '{prediction}/{real_sentiment}'\")\n",
    "    \n",
    "    print(f\"{i}/{j} comentarios divergentes\")\n",
    "    \n",
    "except ValueError as e:\n",
    "    logger.error(f\"Erro durante a inferência: {e}\")\n",
    "except Exception as e:\n",
    "    logger.error(f\"Ocorreu um erro inesperado: {e}\")"
   ]
  }
 ],
 "metadata": {
  "kernelspec": {
   "display_name": "Python 3",
   "language": "python",
   "name": "python3"
  },
  "language_info": {
   "codemirror_mode": {
    "name": "ipython",
    "version": 3
   },
   "file_extension": ".py",
   "mimetype": "text/x-python",
   "name": "python",
   "nbconvert_exporter": "python",
   "pygments_lexer": "ipython3",
   "version": "3.11.9"
  }
 },
 "nbformat": 4,
 "nbformat_minor": 5
}
