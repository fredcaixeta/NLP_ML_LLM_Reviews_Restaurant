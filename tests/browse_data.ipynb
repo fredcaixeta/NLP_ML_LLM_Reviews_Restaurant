{
 "cells": [
  {
   "cell_type": "code",
   "execution_count": 67,
   "id": "b12aa7d9",
   "metadata": {},
   "outputs": [],
   "source": [
    "import pandas as pd\n",
    "import os\n",
    "import numpy as np\n",
    "\n",
    "import sys\n",
    "import os\n",
    "\n",
    "# Obtém o caminho absoluto para o diretório raiz do projeto (my_project)\n",
    "project_root = os.path.abspath(os.path.join(os.getcwd(), '..'))\n",
    "\n",
    "# Adiciona ao sys.path se ainda não estiver lá\n",
    "if project_root not in sys.path:\n",
    "    sys.path.append(project_root)"
   ]
  },
  {
   "cell_type": "code",
   "execution_count": 8,
   "id": "f5218a0b",
   "metadata": {},
   "outputs": [],
   "source": [
    "df = pd.read_parquet(r'../data/dataset_train_with_sentiment_fix_negative_trimmed_similarity.parquet')"
   ]
  },
  {
   "cell_type": "code",
   "execution_count": 9,
   "id": "e00e6c2d",
   "metadata": {},
   "outputs": [
    {
     "data": {
      "text/plain": [
       "sentiment\n",
       "Positive    400\n",
       "Negative    154\n",
       "Neutral      74\n",
       "Name: count, dtype: int64"
      ]
     },
     "execution_count": 9,
     "metadata": {},
     "output_type": "execute_result"
    }
   ],
   "source": [
    "df['sentiment'].value_counts()"
   ]
  },
  {
   "cell_type": "code",
   "execution_count": 2,
   "id": "345bdb76",
   "metadata": {},
   "outputs": [],
   "source": [
    "txt_negativ = r'../data/synthetic/negativ.txt'\n",
    "\n",
    "with open(file=txt_negativ, mode='r', encoding='utf-8') as f:\n",
    "    f = f.read()"
   ]
  },
  {
   "cell_type": "code",
   "execution_count": 20,
   "id": "d5b3d6da",
   "metadata": {},
   "outputs": [],
   "source": [
    "list_lines = f.split('\\n')\n",
    "list_lines = [line.split('-')[1:] for line in list_lines]"
   ]
  },
  {
   "cell_type": "code",
   "execution_count": 24,
   "id": "a900e420",
   "metadata": {},
   "outputs": [
    {
     "name": "stdout",
     "output_type": "stream",
     "text": [
      "['The food was cold and tasteless, would not recommend.', 'Service was incredibly slow, had to wait over an hour for our order.', 'Overpriced for the tiny portions they serve.', 'The staff was rude and unprofessional.', 'Dirty tables and utensils, very unhygienic.', 'The pizza arrived soggy and undercooked.', 'Worst dining experience ever, avoid this place.', 'The menu options were limited and uninspiring.', 'The ambiance was loud and chaotic, couldn’t enjoy the meal.', 'The steak was overcooked and dry.', 'The waiter ignored us the entire time.', 'The drinks were watered down.', 'The place smelled bad, like old grease.', 'The sushi was not fresh at all.', 'The dessert was stale and tasted like it was days old.', 'The hostess was dismissive and unwelcoming.', 'The bathroom was filthy and out of order.', 'The food was bland and lacked seasoning.', 'The reservation was lost, had to wait 30 minutes.', 'The chicken was undercooked and pink inside.', 'The prices on the menu didn’t match the bill.', 'The coffee was cold and bitter.', 'The place was overcrowded and noisy.', 'The pasta was overcooked and mushy.', 'The waiter got our order wrong twice.', 'The “fresh” juice tasted like it was from concentrate.', 'The bread basket was stale and hard.', 'The music was too loud, couldn’t hear each other.', 'The salad had wilted lettuce and old vegetables.', 'The fish had a strong, unpleasant odor.', 'The dessert menu was disappointing.', 'The service charge was added without notice.', 'The fries were cold and soggy.', 'The soup was overly salty and inedible.', 'The place was understaffed, had to flag down waiters.', 'The burger was dry and lacked flavor.', 'The wine list was overpriced and limited.', 'The air conditioning was broken, it was too hot.', 'The appetizers took forever to arrive.', 'The staff argued in front of customers.', 'The portions were laughably small.', 'The “homemade” dessert tasted store', 'bought.', 'The table was sticky and not cleaned properly.', 'The waiter spilled water on me and didn’t apologize.', 'The food was greasy and heavy.', 'The place had a weird, off', 'putting vibe.', 'The cocktails were poorly made and unbalanced.', 'The vegetarian options were practically nonexistent.', 'The check took forever to arrive.', 'The \"fresh\" oysters tasted like they\\'d been sitting out for hours.', 'Our server disappeared for 30 minutes after taking our order.', 'The \"homemade\" pasta was clearly store', 'bought and overcooked.', 'The manager argued with us instead of fixing our complaint.', 'The steak was so tough, I couldn’t even cut it.', 'The \"vegetarian\" dish had chunks of meat in it.', 'The dessert menu was a joke—only two options, both stale.', 'The place reeked of bleach and spoiled food.', 'The waiter rolled his eyes when we asked for substitutions.', 'The \"signature\" cocktail tasted like cough syrup.', 'The chicken was rubbery and flavorless.', 'The hostess seated us next to the bathroom despite open tables.', 'The bread was so hard, it could’ve been used as a weapon.', 'The \"gluten', 'free\" options were contaminated with regular flour.', 'The espresso was burnt and undrinkable.', 'The \"live music\" was just a guy playing the same three chords badly.', 'The soup was lukewarm and tasted like canned broth.', 'The waiter dropped a plate and didn’t even apologize.', 'The \"fresh\" juice was clearly from a concentrate.', 'The bill had extra charges we didn’t authorize.', 'The \"medium', 'rare\" burger was completely raw inside.', 'The place was so loud, we had to shout to hear each other.', 'The \"vegan\" dish had cheese sprinkled on top.', 'The staff acted like we were bothering them by being there.', 'The \"house special\" was just microwaved leftovers.', 'The bathroom had no soap or paper towels.', 'The \"happy hour\" prices were the same as regular prices.', 'The salad had a dead bug in it.', 'The waiter argued with us about the correct order.', 'The \"artisanal\" pizza was just frozen dough with cheap toppings.', 'The AC was broken, and the place was sweltering.', 'The \"fresh\" fish smelled like it had been sitting out all day.', 'The staff ignored our requests for water refills.', 'The \"chocolate\" dessert was clearly cheap imitation.', 'The table wobbled so badly, our drinks spilled.', 'The \"spicy\" dish had zero flavor—just bland sauce.', 'The waiter brought the wrong dish and insisted it was correct.', 'The \"kids\\' menu\" was just smaller portions of adult meals at full price.', 'The place was so understaffed, we had to bus our own table.', 'The \"fresh', 'baked\" bread was cold and stale.', 'The \"vegetable medley\" was just soggy microwaved peas and carrots.', 'The \"craft beer\" selection was just mass', 'produced lagers.', 'The \"romantic\" table was right next to the kitchen door.', 'The \"chef’s special\" was just leftovers from lunch.', 'The waiter forgot half our order and blamed the kitchen.', 'The \"creamy\" soup was watery and flavorless.', 'The \"house', 'made\" sauce tasted like ketchup mixed with vinegar.', 'The \"gluten', 'free\" bread was just regular bread sliced thinner.', 'The \"live\" lobster tank was empty—clearly frozen seafood.']\n"
     ]
    }
   ],
   "source": [
    "lista_negatives = [item.strip() for sublista in list_lines for item in sublista]\n",
    "\n",
    "print(lista_negatives)"
   ]
  },
  {
   "cell_type": "code",
   "execution_count": 28,
   "id": "0858424d",
   "metadata": {},
   "outputs": [
    {
     "name": "stdout",
     "output_type": "stream",
     "text": [
      "                                       comment_cleaned sentiment\n",
      "0    The food was cold and tasteless, would not rec...  Negative\n",
      "1    Service was incredibly slow, had to wait over ...  Negative\n",
      "2         Overpriced for the tiny portions they serve.  Negative\n",
      "3               The staff was rude and unprofessional.  Negative\n",
      "4          Dirty tables and utensils, very unhygienic.  Negative\n",
      "..                                                 ...       ...\n",
      "102                                         The \"house  Negative\n",
      "103  made\" sauce tasted like ketchup mixed with vin...  Negative\n",
      "104                                        The \"gluten  Negative\n",
      "105  free\" bread was just regular bread sliced thin...  Negative\n",
      "106  The \"live\" lobster tank was empty—clearly froz...  Negative\n",
      "\n",
      "[107 rows x 2 columns]\n"
     ]
    }
   ],
   "source": [
    "# 1. Criar o DataFrame com a coluna 'comment_cleaned'\n",
    "df_neg = pd.DataFrame({'comment_cleaned': lista_negatives})\n",
    "\n",
    "# 2. Adicionar a coluna 'sentiment' com o valor 'Negative'\n",
    "df_neg['sentiment'] = 'Negative'\n",
    "\n",
    "print(df_neg)"
   ]
  },
  {
   "cell_type": "code",
   "execution_count": 90,
   "id": "5de94f94",
   "metadata": {},
   "outputs": [],
   "source": [
    "txt_neutral = r'../data/synthetic/neutral.txt'\n",
    "\n",
    "with open(file=txt_neutral, mode='r', encoding='utf-8') as f:\n",
    "    f = f.read()"
   ]
  },
  {
   "cell_type": "code",
   "execution_count": 91,
   "id": "c3672206",
   "metadata": {},
   "outputs": [
    {
     "name": "stdout",
     "output_type": "stream",
     "text": [
      "['The food was decent, but nothing stood out.', 'The service was average—nothing special.', 'The ambiance was fine, neither cozy nor unpleasant.', 'The menu had standard options, nothing unique.', 'The portion sizes were reasonable for the price.', 'The coffee was okay, not great but not bad.', 'The place was clean but lacked character.', 'The wait time was acceptable, not too long.', 'The dishes were cooked properly but lacked creativity.', 'The staff was polite but not overly friendly.', 'The food was what you’d expect—no surprises.', 'The decor was simple, nothing fancy.', 'The prices matched the quality—fair but not a steal.', 'The bread basket was standard, nothing special.', 'The salad was fresh but basic.', 'The drinks were average, nothing memorable.', 'The experience was forgettable but not bad.', 'The place was neither crowded nor empty.', 'The service was efficient but impersonal.', 'The food was neither too salty nor too bland.', 'The lighting was neutral—not too bright or dim.', 'The music was background noise, not intrusive.', 'The table was set properly but nothing impressive.', 'The menu descriptions were accurate.', 'The food presentation was simple.', 'The staff was present but not overly attentive.', 'The experience was neither good nor bad.', 'The place was easy to find but not noteworthy.', 'The restroom was clean but basic.', 'The dishes were standard for the cuisine.', 'The place was neither loud nor quiet.', 'The service was prompt but not warm.', 'The food was filling but not exciting.', 'The decor was neutral, no strong impressions.', 'The experience was forgettable.', 'The staff was neither rude nor friendly.', 'The food was what you’d expect, no surprises.', 'The place was average in every way.', 'The meal was satisfactory but not special.', 'The prices were fair for what you got.', 'The portion sizes were standard.', 'The food was neither hot nor cold.', 'The service was neither fast nor slow.', 'The ambiance was neither cozy nor uncomfortable.', 'The menu was straightforward with no frills.', 'The experience was neither disappointing nor impressive.', 'The place was just okay, nothing more.', 'The food was edible but not impressive.', 'The service was adequate but forgettable.', 'The atmosphere was neutral, neither relaxing nor lively.', 'The drinks were standard, nothing unique.', 'The wait time was reasonable but not exceptional.', 'The food was cooked correctly but lacked flair.', 'The wine selection was adequate.', 'The lighting was neither too bright nor too dim.', 'The music was background noise, not intrusive.', 'The table was set properly but nothing fancy.', 'The menu descriptions were accurate.', 'The food presentation was simple.', 'The staff was present but not attentive.', 'The experience was neither good nor bad.', 'The place was easy to find but not noteworthy.', 'The restroom was clean but basic.', 'The food was neither too salty nor too bland.', 'The wait time for seating was minimal.', 'The dishes were standard for the cuisine.', 'The place was neither loud nor quiet.', 'The service was prompt but not warm.', 'The food was filling but not exciting.', 'The decor was neutral, no strong impressions.', 'The experience was forgettable.', 'The staff was neither rude nor friendly.', 'The food was what you’d expect, no surprises.', 'The place was average in every way.', 'The meal was satisfactory but not special.', 'The prices were fair for what you got.', 'The portion sizes were standard.', 'The food was neither hot nor cold.', 'The service was neither fast nor slow.', 'The ambiance was neither cozy nor uncomfortable.', 'The menu was straightforward with no frills.', 'The experience was neither disappointing nor impressive.', 'The place was just okay, nothing more.', 'The food was edible but not impressive.', 'The service was adequate but forgettable.', 'The atmosphere was neutral, neither relaxing nor lively.', 'The drinks were standard, nothing unique.', 'The wait time was reasonable but not exceptional.', 'The food was cooked correctly but lacked flair.', 'The wine selection was adequate.', 'The lighting was neither too bright nor too dim.', 'The music was background noise, not intrusive.', 'The table was set properly but nothing fancy.', 'The menu descriptions were accurate.', 'The food presentation was simple.', 'The staff was present but not attentive.', 'The experience was neither good nor bad.', 'The place was easy to find but not noteworthy.', 'The restroom was clean but basic.', 'The food was neither too salty nor too bland.']\n"
     ]
    }
   ],
   "source": [
    "list_lines_neutral = f.split('\\n')\n",
    "list_lines_neutral = [line.split('-')[1:] for line in list_lines_neutral]\n",
    "lista_neutral = [item.strip() for sublista in list_lines_neutral for item in sublista]\n",
    "\n",
    "print(lista_neutral)"
   ]
  },
  {
   "cell_type": "code",
   "execution_count": 92,
   "id": "ae66f4c0",
   "metadata": {},
   "outputs": [
    {
     "name": "stdout",
     "output_type": "stream",
     "text": [
      "                                      comment_cleaned sentiment\n",
      "0         The food was decent, but nothing stood out.   Neutral\n",
      "1            The service was average—nothing special.   Neutral\n",
      "2   The ambiance was fine, neither cozy nor unplea...   Neutral\n",
      "3      The menu had standard options, nothing unique.   Neutral\n",
      "4    The portion sizes were reasonable for the price.   Neutral\n",
      "..                                                ...       ...\n",
      "95           The staff was present but not attentive.   Neutral\n",
      "96           The experience was neither good nor bad.   Neutral\n",
      "97     The place was easy to find but not noteworthy.   Neutral\n",
      "98                  The restroom was clean but basic.   Neutral\n",
      "99      The food was neither too salty nor too bland.   Neutral\n",
      "\n",
      "[100 rows x 2 columns]\n"
     ]
    }
   ],
   "source": [
    "# 1. Criar o DataFrame com a coluna 'comment_cleaned'\n",
    "df_neutral = pd.DataFrame({'comment_cleaned': lista_neutral})\n",
    "\n",
    "# 2. Adicionar a coluna 'sentiment' com o valor 'Negative'\n",
    "df_neutral['sentiment'] = 'Neutral'\n",
    "\n",
    "print(df_neutral)"
   ]
  },
  {
   "cell_type": "code",
   "execution_count": 93,
   "id": "62ed9c55",
   "metadata": {},
   "outputs": [],
   "source": [
    "df = pd.read_parquet(r'../data/dataset_train_with_sentiment_fix_negative_synthetic.parquet')"
   ]
  },
  {
   "cell_type": "code",
   "execution_count": 94,
   "id": "bbc6e960",
   "metadata": {},
   "outputs": [
    {
     "data": {
      "text/plain": [
       "sentiment\n",
       "Positive    422\n",
       "Negative    154\n",
       "Neutral      74\n",
       "Name: count, dtype: int64"
      ]
     },
     "execution_count": 94,
     "metadata": {},
     "output_type": "execute_result"
    }
   ],
   "source": [
    "df['sentiment'].value_counts()"
   ]
  },
  {
   "cell_type": "code",
   "execution_count": 95,
   "id": "dd64ef61",
   "metadata": {},
   "outputs": [],
   "source": [
    "df_combined_neutral = pd.concat([df, df_neutral])"
   ]
  },
  {
   "cell_type": "code",
   "execution_count": 96,
   "id": "97e9991e",
   "metadata": {},
   "outputs": [
    {
     "data": {
      "text/plain": [
       "sentiment\n",
       "Positive    422\n",
       "Neutral     174\n",
       "Negative    154\n",
       "Name: count, dtype: int64"
      ]
     },
     "execution_count": 96,
     "metadata": {},
     "output_type": "execute_result"
    }
   ],
   "source": [
    "df_combined_neutral['sentiment'].value_counts()"
   ]
  },
  {
   "cell_type": "code",
   "execution_count": 87,
   "id": "18a71b75",
   "metadata": {},
   "outputs": [],
   "source": [
    "df_combined_neutral_negativ = pd.concat([df_combined_neutral, df_neg])"
   ]
  },
  {
   "cell_type": "code",
   "execution_count": null,
   "id": "156a7c60",
   "metadata": {},
   "outputs": [
    {
     "data": {
      "text/plain": [
       "sentiment\n",
       "Positive    422\n",
       "Negative    261\n",
       "Neutral     174\n",
       "Name: count, dtype: int64"
      ]
     },
     "execution_count": 89,
     "metadata": {},
     "output_type": "execute_result"
    }
   ],
   "source": [
    "df_combined_neutral_negativ['sentiment'].value_counts()"
   ]
  },
  {
   "cell_type": "code",
   "execution_count": 102,
   "id": "b233cc7f",
   "metadata": {},
   "outputs": [
    {
     "name": "stdout",
     "output_type": "stream",
     "text": [
      "sentiment\n",
      "Negative    261\n",
      "Neutral     174\n",
      "Name: count, dtype: int64\n",
      "                                             comment  \\\n",
      "0  judging from previous posts this used to be a ...   \n",
      "1  we , there were four of us , arrived at noon -...   \n",
      "2  they never brought us complimentary noodles , ...   \n",
      "3  the food was lousy - too sweet or too salty an...   \n",
      "4  after all that , they complained to me about t...   \n",
      "\n",
      "                                     comment_cleaned sentiment  \\\n",
      "0  judging from previous posts this used to be a ...  Negative   \n",
      "1  we , there were four of us , arrived at noon -...  Negative   \n",
      "2  they never brought us complimentary noodles , ...  Negative   \n",
      "3  the food was lousy - too sweet or too salty an...  Negative   \n",
      "4  after all that , they complained to me about t...  Negative   \n",
      "\n",
      "                                        raw_response  \\\n",
      "0  {'metadata': {'aspect': None, 'category': None...   \n",
      "1  {'metadata': {'aspect': None, 'category': None...   \n",
      "2  {'metadata': {'aspect': None, 'category': None...   \n",
      "3  {'metadata': {'aspect': None, 'category': None...   \n",
      "4  {'metadata': {'aspect': None, 'category': None...   \n",
      "\n",
      "                                     metadata_reason metadata_responsible  \\\n",
      "0                                 decline in quality                 None   \n",
      "1                                      rude behavior                staff   \n",
      "2  poor service, ignored requests, and rude handl...               waiter   \n",
      "3                      food quality and portion size                 None   \n",
      "4                 unreasonable expectation about tip             customer   \n",
      "\n",
      "  metadata_subject metadata_dish metadata_dish_type metadata_specific_offer  \\\n",
      "0             None          None               None                    None   \n",
      "1             None          None               None                    None   \n",
      "2             None          None               None                    None   \n",
      "3             None          None               None                    None   \n",
      "4             None          None               None                    None   \n",
      "\n",
      "  metadata_category metadata_specific_issues metadata_specific_issue  \\\n",
      "0              None                     None                    None   \n",
      "1              None                     None                    None   \n",
      "2              None                     None                    None   \n",
      "3              None                     None                    None   \n",
      "4              None                     None                    None   \n",
      "\n",
      "  metadata_mixed_sentiment metadata_phrase metadata_price_range  \\\n",
      "0                     None            None                 None   \n",
      "1                     None            None                 None   \n",
      "2                     None            None                 None   \n",
      "3                     None            None                 None   \n",
      "4                     None            None                 None   \n",
      "\n",
      "  metadata_claimed_attribute metadata_aspect metadata_price  \n",
      "0                       None            None           None  \n",
      "1                       None            None           None  \n",
      "2                       None            None           None  \n",
      "3                       None            None           None  \n",
      "4                       None            None           None  \n"
     ]
    }
   ],
   "source": [
    "# Lista dos sentimentos que você quer manter\n",
    "sentimentos_desejados = ['Negative', 'Neutral']\n",
    "\n",
    "# Criando uma máscara booleana onde True indica as linhas com os sentimentos desejados\n",
    "mask_manter = df_combined_neutral_negativ['sentiment'].isin(sentimentos_desejados)\n",
    "\n",
    "# Usando a máscara para selecionar apenas as linhas desejadas e criar um novo DataFrame\n",
    "df_only_negative_neutral = df_combined_neutral_negativ[mask_manter]\n",
    "\n",
    "# Ou, se você quiser modificar o DataFrame original in-place:\n",
    "# df_combined_neutral_negativ = df_combined_neutral_negativ[mask_manter]\n",
    "\n",
    "print(df_only_negative_neutral['sentiment'].value_counts())\n",
    "print(df_only_negative_neutral.head()) # Para visualizar as primeiras linhas do DataFrame resultante"
   ]
  },
  {
   "cell_type": "code",
   "execution_count": 46,
   "id": "eaafa145",
   "metadata": {},
   "outputs": [
    {
     "name": "stdout",
     "output_type": "stream",
     "text": [
      "Contagem de sentimentos positivos:\n",
      " sentiment\n",
      "Positive    422\n",
      "Name: count, dtype: int64\n"
     ]
    }
   ],
   "source": [
    "# 1. Filtrar o DataFrame para obter apenas os comentários positivos\n",
    "df_positive = df_combined_neutral_negativ[df_combined_neutral_negativ['sentiment'] == 'Positive']\n",
    "\n",
    "# 2. Aplicar value_counts() na coluna desejada do DataFrame filtrado\n",
    "# Neste caso, se você aplicar em 'sentiment', o resultado será apenas a contagem de 'Positive'\n",
    "positive_sentiment_counts = df_positive['sentiment'].value_counts()\n",
    "print(\"Contagem de sentimentos positivos:\\n\", positive_sentiment_counts)"
   ]
  },
  {
   "cell_type": "code",
   "execution_count": 77,
   "id": "6b332653",
   "metadata": {},
   "outputs": [],
   "source": [
    "output_path = 'dataset_train_with_sentiment_positives_to_trim.parquet'\n",
    "df_positive.to_parquet(output_path, index=False, engine='pyarrow')"
   ]
  },
  {
   "cell_type": "code",
   "execution_count": 72,
   "id": "e0dab67e",
   "metadata": {},
   "outputs": [],
   "source": [
    "lista_comentarios_positivos = (df_positive['comment_cleaned'].to_list())"
   ]
  },
  {
   "cell_type": "code",
   "execution_count": null,
   "id": "31d47544",
   "metadata": {},
   "outputs": [],
   "source": [
    "lista_comentarios_positivos"
   ]
  },
  {
   "cell_type": "code",
   "execution_count": 82,
   "id": "251b8da4",
   "metadata": {},
   "outputs": [
    {
     "data": {
      "text/plain": [
       "<bound method IndexOpsMixin.value_counts of 0      Positive\n",
       "1      Positive\n",
       "2      Positive\n",
       "3      Positive\n",
       "4      Positive\n",
       "         ...   \n",
       "293    Positive\n",
       "294    Positive\n",
       "295    Positive\n",
       "296    Positive\n",
       "297    Positive\n",
       "Name: sentiment, Length: 298, dtype: object>"
      ]
     },
     "execution_count": 82,
     "metadata": {},
     "output_type": "execute_result"
    }
   ],
   "source": [
    "df_positive = pd.read_parquet('dataset_train_with_sentiment_positives_to_trim.parquet')\n",
    "\n",
    "df_positive['sentiment'].value_counts"
   ]
  },
  {
   "cell_type": "code",
   "execution_count": 103,
   "id": "969d4e37",
   "metadata": {},
   "outputs": [],
   "source": [
    "df_pos_neutral_negative = pd.concat([df_only_negative_neutral, df_positive])"
   ]
  },
  {
   "cell_type": "code",
   "execution_count": 107,
   "id": "d6445cb8",
   "metadata": {},
   "outputs": [
    {
     "data": {
      "text/plain": [
       "sentiment\n",
       "Positive    298\n",
       "Negative    261\n",
       "Neutral     174\n",
       "Name: count, dtype: int64"
      ]
     },
     "execution_count": 107,
     "metadata": {},
     "output_type": "execute_result"
    }
   ],
   "source": [
    "df_pos_neutral_negative['sentiment'].value_counts()"
   ]
  },
  {
   "cell_type": "code",
   "execution_count": 108,
   "id": "e789e8ed",
   "metadata": {},
   "outputs": [],
   "source": [
    "df_pos_neutral_negative.to_parquet('dataset_train_trim_synthetic_balanced.parquet')"
   ]
  },
  {
   "cell_type": "code",
   "execution_count": 75,
   "id": "12f35025",
   "metadata": {},
   "outputs": [
    {
     "name": "stdout",
     "output_type": "stream",
     "text": [
      "Calculando similaridades...\n"
     ]
    },
    {
     "name": "stderr",
     "output_type": "stream",
     "text": [
      "Processando similaridades: 100%|██████████| 422/422 [00:00<00:00, 24118.01it/s]"
     ]
    },
    {
     "name": "stdout",
     "output_type": "stream",
     "text": [
      "Pares similares encontrados: 133\n"
     ]
    },
    {
     "name": "stderr",
     "output_type": "stream",
     "text": [
      "\n"
     ]
    }
   ],
   "source": [
    "try:\n",
    "    from ..src import embedding_call\n",
    "except:\n",
    "    from src import embedding_call\n",
    "\n",
    "embedder = embedding_call.Model2VecEmbeddings(similarity_threshold=0.75)\n",
    "# 2. Gerar embeddings\n",
    "embeddings = embedder.embed_documents(lista_comentarios_positivos)\n",
    "\n",
    "# 3. Encontrar pares similares\n",
    "similar_pairs = embedder.find_similar_pairs(embeddings)\n",
    "print(f\"Pares similares encontrados: {len(similar_pairs)}\")\n"
   ]
  },
  {
   "cell_type": "code",
   "execution_count": 76,
   "id": "175d1c50",
   "metadata": {},
   "outputs": [
    {
     "data": {
      "text/plain": [
       "289"
      ]
     },
     "execution_count": 76,
     "metadata": {},
     "output_type": "execute_result"
    }
   ],
   "source": [
    "422-133"
   ]
  },
  {
   "cell_type": "code",
   "execution_count": null,
   "id": "f3d9f360",
   "metadata": {},
   "outputs": [],
   "source": [
    "def cluster_similar_comments(self, df: pd.DataFrame, similar_pairs: List[Tuple[int, int]]) -> pd.DataFrame:\n",
    "    \"\"\"Agrupa comentários similares e mantém apenas um representante\"\"\"\n",
    "    print(\"Agrupando comentários similares...\")\n",
    "    clusters = []\n",
    "    visited = set()\n",
    "    \n",
    "    # Cria clusters de similaridade\n",
    "    for i, j in similar_pairs:\n",
    "        if i not in visited and j not in visited:\n",
    "            clusters.append({i, j})\n",
    "            visited.update({i, j})\n",
    "        elif i in visited and j not in visited:\n",
    "            for cluster in clusters:\n",
    "                if i in cluster:\n",
    "                    cluster.add(j)\n",
    "                    visited.add(j)\n",
    "                    break\n",
    "        elif j in visited and i not in visited:\n",
    "            for cluster in clusters:\n",
    "                if j in cluster:\n",
    "                    cluster.add(i)\n",
    "                    visited.add(i)\n",
    "                    break\n",
    "    \n",
    "    # Seleciona representantes (o comentário mais longo de cada cluster)\n",
    "    to_remove = set()\n",
    "    for cluster in clusters:\n",
    "        cluster_texts = [(idx, df.loc[idx, 'comment_cleaned']) for idx in cluster]\n",
    "        # Ordena por comprimento e seleciona o mais longo\n",
    "        cluster_texts.sort(key=lambda x: len(x[1]), reverse=True)\n",
    "        representative = cluster_texts[0][0]\n",
    "        to_remove.update([idx for idx, _ in cluster_texts[1:]])\n",
    "    \n",
    "    # Cria coluna de hash para identificação de duplicatas exatas\n",
    "    df['text_hash'] = df['comment_cleaned'].apply(\n",
    "        lambda x: hashlib.md5(x.strip().lower().encode()).hexdigest()\n",
    "    )\n",
    "    \n",
    "    # Remove duplicatas exatas primeiro\n",
    "    df = df.drop_duplicates(subset=['text_hash'], keep='first')\n",
    "    \n",
    "    # Remove comentários similares não representativos\n",
    "    df = df.drop(index=list(to_remove)).reset_index(drop=True)\n",
    "    \n",
    "    return df.drop(columns=['text_hash'])\n",
    "# 4. Clusterizar e remover duplicatas\n",
    "df_dedup = self.cluster_similar_comments(df, similar_pairs)\n",
    "print(f\"Total de comentários após deduplicação: {len(df_dedup)}\")\n",
    "print(f\"Comentários removidos: {len(df) - len(df_dedup)}\")"
   ]
  },
  {
   "cell_type": "code",
   "execution_count": 70,
   "id": "99935083",
   "metadata": {},
   "outputs": [
    {
     "data": {
      "text/plain": [
       "[(19, 622),\n",
       " (31, 439),\n",
       " (41, 176),\n",
       " (41, 498),\n",
       " (41, 568),\n",
       " (91, 604),\n",
       " (110, 539),\n",
       " (114, 390),\n",
       " (118, 260),\n",
       " (147, 604),\n",
       " (170, 373),\n",
       " (170, 568),\n",
       " (214, 228),\n",
       " (214, 319),\n",
       " (214, 379),\n",
       " (214, 400),\n",
       " (214, 459),\n",
       " (228, 379),\n",
       " (242, 358),\n",
       " (307, 547),\n",
       " (319, 379),\n",
       " (319, 400),\n",
       " (319, 459),\n",
       " (361, 551),\n",
       " (379, 400),\n",
       " (379, 459),\n",
       " (400, 459),\n",
       " (473, 500),\n",
       " (498, 604),\n",
       " (499, 632),\n",
       " (527, 547)]"
      ]
     },
     "execution_count": 70,
     "metadata": {},
     "output_type": "execute_result"
    }
   ],
   "source": [
    "similar_pairs"
   ]
  },
  {
   "cell_type": "code",
   "execution_count": 5,
   "id": "7208aa77",
   "metadata": {},
   "outputs": [
    {
     "data": {
      "text/plain": [
       "sentiment\n",
       "Positive    298\n",
       "Negative    261\n",
       "Neutral     174\n",
       "Name: count, dtype: int64"
      ]
     },
     "execution_count": 5,
     "metadata": {},
     "output_type": "execute_result"
    }
   ],
   "source": [
    "import pandas as pd\n",
    "df = pd.read_parquet(r'C:\\Users\\fuedj\\Documents\\Code\\NLP\\desafio_DS\\data\\dataset_train_trim_synthetic_balanced.parquet')\n",
    "df['sentiment'].value_counts()"
   ]
  },
  {
   "cell_type": "code",
   "execution_count": 7,
   "id": "b6312e4c",
   "metadata": {},
   "outputs": [
    {
     "name": "stdout",
     "output_type": "stream",
     "text": [
      "                                     comment_cleaned  char_count sentiment\n",
      "0  judging from previous posts this used to be a ...          80  Negative\n",
      "1  we , there were four of us , arrived at noon -...         145  Negative\n",
      "2  they never brought us complimentary noodles , ...         120  Negative\n",
      "3  the food was lousy - too sweet or too salty an...          68  Negative\n",
      "4  after all that , they complained to me about t...          61  Negative\n"
     ]
    }
   ],
   "source": [
    "df['char_count'] = df['comment_cleaned'].str.len()\n",
    "\n",
    "print(df[['comment_cleaned', 'char_count', 'sentiment']].head())"
   ]
  },
  {
   "cell_type": "code",
   "execution_count": 8,
   "id": "90a17d71",
   "metadata": {},
   "outputs": [
    {
     "name": "stdout",
     "output_type": "stream",
     "text": [
      "\n",
      "Estatísticas do número de caracteres por sentimento:\n",
      "            count       mean        std   min   25%   50%   75%    max\n",
      "sentiment                                                            \n",
      "Negative   261.0  63.386973  37.418625   7.0  39.0  53.0  75.0  237.0\n",
      "Neutral    174.0  54.563218  30.209749  10.0  38.0  45.0  56.0  209.0\n",
      "Positive   298.0  74.956376  39.362104  12.0  45.0  68.0  97.0  221.0\n"
     ]
    }
   ],
   "source": [
    "char_stats_by_sentiment = df.groupby('sentiment')['char_count'].describe()\n",
    "print(\"\\nEstatísticas do número de caracteres por sentimento:\\n\", char_stats_by_sentiment)"
   ]
  }
 ],
 "metadata": {
  "kernelspec": {
   "display_name": "Python 3",
   "language": "python",
   "name": "python3"
  },
  "language_info": {
   "codemirror_mode": {
    "name": "ipython",
    "version": 3
   },
   "file_extension": ".py",
   "mimetype": "text/x-python",
   "name": "python",
   "nbconvert_exporter": "python",
   "pygments_lexer": "ipython3",
   "version": "3.11.9"
  }
 },
 "nbformat": 4,
 "nbformat_minor": 5
}
