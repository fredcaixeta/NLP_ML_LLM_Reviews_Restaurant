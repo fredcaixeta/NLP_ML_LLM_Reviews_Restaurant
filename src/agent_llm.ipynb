{
 "cells": [
  {
   "cell_type": "code",
   "execution_count": null,
   "id": "d9d33df7",
   "metadata": {},
   "outputs": [],
   "source": [
    "from typing import List, Dict, Optional\n",
    "import aiohttp\n",
    "import asyncio\n",
    "import json\n",
    "import os\n",
    "\n",
    "import requests"
   ]
  },
  {
   "cell_type": "code",
   "execution_count": null,
   "id": "31ce3329",
   "metadata": {},
   "outputs": [],
   "source": [
    "api_key = os.getenv('groq_key')"
   ]
  },
  {
   "cell_type": "code",
   "execution_count": null,
   "id": "1f3ba9c8",
   "metadata": {},
   "outputs": [],
   "source": [
    "class SmartAgentSystem:\n",
    "    def __init__(self, api_key: str):\n",
    "        self.api_key = api_key\n",
    "        self.session = None\n",
    "\n",
    "    async def __aenter__(self):\n",
    "        self.session = aiohttp.ClientSession()\n",
    "        return self\n",
    "\n",
    "    async def __aexit__(self, *args):\n",
    "        await self.session.close()\n",
    "\n",
    "    async def expert_agent(self, text: str) -> Optional[Dict]:\n",
    "        \"\"\"Agente especialista com identificação de chunk\"\"\"\n",
    "        \n",
    "        prompt = \"\"\"\n",
    "            You are an assistant specialized in sentiment analysis of restaurant reviews.\\n\n",
    "            Classify the sentiment of the user-provided comment into one of the following \n",
    "            categories: \\\"Positive\\\", \\\"Negative\\\", or \\\"Neutral\\\". Bring related metadata \n",
    "            if available.\\nStrictly respond with a JSON object containing only the key \\\"sentiment\\\" and \n",
    "            the category value, and \\\"metadata\\\" with the appropriate metadata (if any), including \\\"responsible\\\" \n",
    "            and \\\"reason\\\".\\nExample: {\\\"sentiment\\\": \\\"Positive\\\", \\\"metadata\\\": {\\\"responsible\\\": \\\"waiter\\\", \\\"reason\\\":\n",
    "            \\\"attentive service\\\"}}\\nIf the comment does not clearly express a sentiment (e.g., \n",
    "            it only describes something without opinion), classify it as \\\"Neutral\\\".\\nIf the comment \n",
    "            expresses mixed sentiments (e.g., the food was good, but the service was bad), \n",
    "            try to determine the predominant overall sentiment or use \\\"Neutral\\\" if it is balanced.\n",
    "        \"\"\"\n",
    "        \n",
    "        try:\n",
    "            async with self.session.post(\n",
    "                \"https://api.groq.com/openai/v1/chat/completions\",\n",
    "                headers={\"Authorization\": f\"Bearer {self.api_key}\"},\n",
    "                json={\n",
    "                    \"model\": \"meta-llama/llama-4-maverick-17b-128e-instruct\",\n",
    "                    \"messages\": [{\n",
    "                        \"role\": \"system\",\n",
    "                        \"content\": prompt\n",
    "                    }, {\n",
    "                        \"role\": \"user\",\n",
    "                        \"content\": text\n",
    "                    }],\n",
    "                    \"temperature\": 0.5,\n",
    "                    \"response_format\": {\"type\": \"json_object\"}\n",
    "                },\n",
    "                timeout=20\n",
    "            ) as response:\n",
    "                response.raise_for_status()\n",
    "                data = await response.json()\n",
    "                result = json.loads(data['choices'][0]['message']['content'])\n",
    "                \n",
    "                print(f\"Expert Agent Decision: {result}\")\n",
    "                \n",
    "                # Validate response structure\n",
    "                required_keys = {'sentiment'}\n",
    "                if not all(key in result for key in required_keys):\n",
    "                    raise ValueError(\"Missing required keys in response\")\n",
    "                \n",
    "                return result\n",
    "            \n",
    "        except json.JSONDecodeError as e:\n",
    "            print(f\"JSON Error: {str(e)}\")\n",
    "        except KeyError as e:\n",
    "            print(f\"Missing key response: {str(e)}\")\n",
    "        except Exception as e:\n",
    "            print(f\"Error processing: {str(e)}\")\n",
    "        return None"
   ]
  },
  {
   "cell_type": "code",
   "execution_count": null,
   "id": "71f4b549",
   "metadata": {},
   "outputs": [],
   "source": [
    "async with SmartAgentSystem(api_key) as system:\n",
    "    pass"
   ]
  }
 ],
 "metadata": {
  "kernelspec": {
   "display_name": "Python 3",
   "language": "python",
   "name": "python3"
  },
  "language_info": {
   "codemirror_mode": {
    "name": "ipython",
    "version": 3
   },
   "file_extension": ".py",
   "mimetype": "text/x-python",
   "name": "python",
   "nbconvert_exporter": "python",
   "pygments_lexer": "ipython3",
   "version": "3.11.9"
  }
 },
 "nbformat": 4,
 "nbformat_minor": 5
}
